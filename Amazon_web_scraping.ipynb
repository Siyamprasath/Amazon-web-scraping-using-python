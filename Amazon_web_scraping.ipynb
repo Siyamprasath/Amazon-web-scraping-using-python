{
  "nbformat": 4,
  "nbformat_minor": 0,
  "metadata": {
    "colab": {
      "provenance": []
    },
    "kernelspec": {
      "name": "python3",
      "display_name": "Python 3"
    },
    "language_info": {
      "name": "python"
    }
  },
  "cells": [
    {
      "cell_type": "code",
      "execution_count": 5,
      "metadata": {
        "id": "u9nDlCheXGq2"
      },
      "outputs": [],
      "source": [
        "# import libraries\n",
        "\n",
        "from bs4 import BeautifulSoup\n",
        "import requests\n",
        "import time\n",
        "import datetime\n",
        "\n",
        "import smtplib"
      ]
    },
    {
      "cell_type": "code",
      "source": [
        "# connect to website\n",
        "URL ='https://www.amazon.in/PETER-ENGLAND-JEANS-Solid-PESFMSLB003086_Black/dp/B0BBVF2DYG/ref=sxin_15_pa_sp_search_thematic_sspa?content-id=amzn1.sym.ee635213-fee1-408a-be4a-3523feeb9a42%3Aamzn1.sym.ee635213-fee1-408a-be4a-3523feeb9a42&crid=17V5YY4C3CJ76&cv_ct_cx=shirt+for+men&dib=eyJ2IjoiMSJ9.vTdOWleMyhGPpTOT5_PhniY4C4GbgURgB1pA5_V1UoYdhVD7wYqWap6jYxAt4Apf.Pyrot_h-acxCtGpoIeLUqGjOrpmaqKcELdSff0wZxNk&dib_tag=se&keywords=shirt+for+men&pd_rd_i=B0BBVF2DYG&pd_rd_r=64d38332-d2f2-4d1b-bf00-c89d8a3811eb&pd_rd_w=kTyjO&pd_rd_wg=wzJxK&pf_rd_p=ee635213-fee1-408a-be4a-3523feeb9a42&pf_rd_r=JMBYHWGT5YNBGYQJS3P8&qid=1719033969&sbo=RZvfv%2F%2FHxDF%2BO5021pAnSA%3D%3D&sprefix=SHIR%2Caps%2C310&sr=1-2-ced4eeeb-b190-41d6-902a-1ecb3fb8b7c4-spons&sp_csd=d2lkZ2V0TmFtZT1zcF9zZWFyY2hfdGhlbWF0aWM&psc=1'\n",
        "\n",
        "headers = {\"User-Agent\": \"Mozilla/5.0 (Windows NT 10.0; Win64; x64) AppleWebKit/537.36 (KHTML, like Gecko) Chrome/78.0.3904.108 Safari/537.36\", \"Accept-Encoding\":\"gzip, deflate\", \"Accept\":\"text/html,application/xhtml+xml,application/xml;q=0.9,*/*;q=0.8\", \"DNT\":\"1\",\"Connection\":\"close\", \"Upgrade-Insecure-Requests\":\"1\"}\n",
        "\n",
        "page =requests.get(URL,headers =headers)\n",
        "\n",
        "soup1 =BeautifulSoup(page.content,\"html.parser\")\n",
        "\n",
        "soup2 =BeautifulSoup(soup1.prettify(),\"html.parser\")\n",
        "\n",
        "title =soup2.find(id='productTitle').get_text()\n",
        "\n",
        "price =soup2.find('span',{'class':'a-price-whole'}).get_text()\n",
        "\n",
        "print(title)\n",
        "print(price)\n",
        "\n",
        "\n",
        "\n",
        "\n",
        "\n",
        "\n",
        "\n",
        "\n"
      ],
      "metadata": {
        "colab": {
          "base_uri": "https://localhost:8080/"
        },
        "id": "-G4vTsuIZjRz",
        "outputId": "a5e39c0c-ea6b-4e12-ae21-acf6258ba20d"
      },
      "execution_count": 6,
      "outputs": [
        {
          "output_type": "stream",
          "name": "stdout",
          "text": [
            "\n",
            "                     Peter England Men's Solid Slim Fit Full Sleeve Shirt\n",
            "                    \n",
            "\n",
            "                       1,599\n",
            "                      \n"
          ]
        }
      ]
    },
    {
      "cell_type": "code",
      "source": [
        "price.strip()\n",
        "title = title.strip()\n",
        "\n",
        "print(title)\n",
        "print(price)"
      ],
      "metadata": {
        "colab": {
          "base_uri": "https://localhost:8080/"
        },
        "id": "G4-Jyfx8lhxP",
        "outputId": "032a8373-d11b-45e6-b444-f5e2d298808d"
      },
      "execution_count": 7,
      "outputs": [
        {
          "output_type": "stream",
          "name": "stdout",
          "text": [
            "Peter England Men's Solid Slim Fit Full Sleeve Shirt\n",
            "\n",
            "                       1,599\n",
            "                      \n"
          ]
        }
      ]
    },
    {
      "cell_type": "code",
      "source": [
        "import datetime\n",
        "\n",
        "today = datetime.date.today()\n",
        "\n",
        "print(today)"
      ],
      "metadata": {
        "colab": {
          "base_uri": "https://localhost:8080/"
        },
        "id": "BfXBDTamuNGD",
        "outputId": "d4ef2b83-ade1-469a-bd3d-af2ac839d8fe"
      },
      "execution_count": 8,
      "outputs": [
        {
          "output_type": "stream",
          "name": "stdout",
          "text": [
            "2024-06-22\n"
          ]
        }
      ]
    },
    {
      "cell_type": "code",
      "source": [
        "import csv\n",
        "\n",
        "header =['title','price','date']\n",
        "data=[title,price,today]\n",
        "\n",
        "with open('Amazonwebscrapering.csv','w',newline='',encoding='UTF8') as f:\n",
        "    writer =csv.writer(f)\n",
        "    writer.writerow(header)\n",
        "    writer.writerow(data)"
      ],
      "metadata": {
        "id": "U6pfTvC0o-Tq"
      },
      "execution_count": 14,
      "outputs": []
    },
    {
      "cell_type": "code",
      "source": [
        "import pandas as pd\n",
        "\n",
        "df = pd.read_csv(r'E:\\python\\r\\co\\AmazonwebScrapering.csv')\n",
        "\n",
        "print(df)"
      ],
      "metadata": {
        "id": "A0Wkg7Wio-uk"
      },
      "execution_count": 15,
      "outputs": []
    },
    {
      "cell_type": "code",
      "source": [
        "#Combine all of the above code into one function\n",
        "\n",
        "\n",
        "def check_price():\n",
        "    URL = 'https://www.amazon.com/Funny-Data-Systems-Business-Analyst/dp/B07FNW9FGJ/ref=sr_1_3?dchild=1&keywords=data%2Banalyst%2Btshirt&qid=1626655184&sr=8-3&customId=B0752XJYNL&th=1'\n",
        "\n",
        "    headers = {\"User-Agent\": \"Mozilla/5.0 (Windows NT 10.0; Win64; x64) AppleWebKit/537.36 (KHTML, like Gecko) Chrome/78.0.3904.108 Safari/537.36\", \"Accept-Encoding\":\"gzip, deflate\", \"Accept\":\"text/html,application/xhtml+xml,application/xml;q=0.9,*/*;q=0.8\", \"DNT\":\"1\",\"Connection\":\"close\", \"Upgrade-Insecure-Requests\":\"1\"}\n",
        "\n",
        "    page = requests.get(URL, headers=headers)\n",
        "\n",
        "    soup1 = BeautifulSoup(page.content, \"html.parser\")\n",
        "\n",
        "    soup2 = BeautifulSoup(soup1.prettify(), \"html.parser\")\n",
        "\n",
        "    title = soup2.find(id='productTitle').get_text()\n",
        "\n",
        "    price =soup2.find('span',{'class':'a-price-whole'}).get_text()\n",
        "\n",
        "\n",
        "    price = price.strip()[1:]\n",
        "    title = title.strip()\n",
        "\n",
        "    import datetime\n",
        "\n",
        "    today = datetime.date.today()\n",
        "\n",
        "    import csv\n",
        "\n",
        "    header = ['Title', 'Price', 'Date']\n",
        "    data = [title, price, today]\n",
        "\n",
        "    with open('AmazonwebScrapering.csv', 'a+', newline='', encoding='UTF8') as f:\n",
        "        writer = csv.writer(f)\n",
        "        writer.writerow(data)\n",
        ""
      ],
      "metadata": {
        "id": "nBNzVXuYo-7l"
      },
      "execution_count": 15,
      "outputs": []
    },
    {
      "cell_type": "code",
      "source": [
        "# Runs check_price after a set time and inputs data into your CSV\n",
        "\n",
        "while(True):\n",
        "    check_price()\n",
        "    time.sleep(60)"
      ],
      "metadata": {
        "id": "ErIgtUk2o_HB"
      },
      "execution_count": 17,
      "outputs": []
    },
    {
      "cell_type": "code",
      "source": [
        "import pandas as pd\n",
        "\n",
        "df = pd.read_csv(r'E:\\python\\r\\co\\AmazonwebScrapering.csv')\n",
        "\n",
        "print(df)"
      ],
      "metadata": {
        "id": "dW_MkrL9zr9O"
      },
      "execution_count": null,
      "outputs": []
    }
  ]
}